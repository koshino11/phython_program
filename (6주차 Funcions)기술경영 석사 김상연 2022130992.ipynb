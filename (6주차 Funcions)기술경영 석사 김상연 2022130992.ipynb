{
 "cells": [
  {
   "attachments": {},
   "cell_type": "markdown",
   "id": "d98a9795",
   "metadata": {},
   "source": [
    "<h3><strong>한양대 기술경영 석사 김상연 2022130992<strong></h3>"
   ]
  },
  {
   "attachments": {},
   "cell_type": "markdown",
   "id": "abed7066",
   "metadata": {},
   "source": [
    "<h2>Quiz on Functions</h2>"
   ]
  },
  {
   "attachments": {},
   "cell_type": "markdown",
   "id": "f1b63379",
   "metadata": {},
   "source": [
    "Come up with a function that divides the first input by the second input:"
   ]
  },
  {
   "cell_type": "code",
   "execution_count": 1,
   "id": "e10bd2f7",
   "metadata": {},
   "outputs": [
    {
     "name": "stdout",
     "output_type": "stream",
     "text": [
      "5.0\n"
     ]
    }
   ],
   "source": [
    "def division (a = 10, b = 2):\n",
    "    return a/b\n",
    "\n",
    "print(division())"
   ]
  },
  {
   "attachments": {},
   "cell_type": "markdown",
   "id": "3b6a6753",
   "metadata": {},
   "source": [
    "Use the function <code>con</code> for the following question."
   ]
  },
  {
   "cell_type": "code",
   "execution_count": 2,
   "id": "a313f6e7",
   "metadata": {},
   "outputs": [],
   "source": [
    "# Use the con function for the following question\n",
    "\n",
    "def con(a, b):\n",
    "    return(a + b)"
   ]
  },
  {
   "attachments": {},
   "cell_type": "markdown",
   "id": "aed583d5",
   "metadata": {},
   "source": [
    "Can the <code>con</code> function we defined before be used to add to integers or strings?"
   ]
  },
  {
   "cell_type": "code",
   "execution_count": 3,
   "id": "6c93e1b5",
   "metadata": {},
   "outputs": [
    {
     "name": "stdout",
     "output_type": "stream",
     "text": [
      "hello pyton\n",
      "10\n"
     ]
    }
   ],
   "source": [
    "# 문자열 사용\n",
    "print(con('hello',' pyton'))\n",
    "\n",
    "# 정수사용\n",
    "print(con(4,6))\n"
   ]
  },
  {
   "attachments": {},
   "cell_type": "markdown",
   "id": "861378b1",
   "metadata": {},
   "source": [
    "Can the <code>con</code> function we defined before be used to concentrate a list or tuple?"
   ]
  },
  {
   "cell_type": "code",
   "execution_count": 4,
   "id": "b4ba5356",
   "metadata": {},
   "outputs": [
    {
     "name": "stdout",
     "output_type": "stream",
     "text": [
      "['a', 3, 5, 'b', 4, 6]\n",
      "('a', 3, 5, 'b', 4, 6)\n"
     ]
    }
   ],
   "source": [
    "# list 사용\n",
    "print(con(['a',3,5],['b',4,6]))\n",
    "\n",
    "#tuple 사용\n",
    "print(con(('a',3,5),('b',4,6)))"
   ]
  }
 ],
 "metadata": {
  "kernelspec": {
   "display_name": "Python 3 (ipykernel)",
   "language": "python",
   "name": "python3"
  },
  "language_info": {
   "codemirror_mode": {
    "name": "ipython",
    "version": 3
   },
   "file_extension": ".py",
   "mimetype": "text/x-python",
   "name": "python",
   "nbconvert_exporter": "python",
   "pygments_lexer": "ipython3",
   "version": "3.11.3"
  }
 },
 "nbformat": 4,
 "nbformat_minor": 5
}
