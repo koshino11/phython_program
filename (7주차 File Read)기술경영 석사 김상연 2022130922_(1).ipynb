{
 "cells": [
  {
   "attachments": {},
   "cell_type": "markdown",
   "id": "d98a9795",
   "metadata": {},
   "source": [
    "<h3><strong>한양대 기술경영 석사 김상연 2022130922<strong></h3>"
   ]
  },
  {
   "attachments": {},
   "cell_type": "markdown",
   "id": "4a601bab",
   "metadata": {},
   "source": [
    "해당 실습을 colab에서 하고 있지 않아, PC의 파일을 만들고 실습함"
   ]
  },
  {
   "cell_type": "markdown",
   "id": "5d75d94d",
   "metadata": {},
   "source": [
    "<h2 id=\"read\">Reading Text Files</h2>"
   ]
  },
  {
   "cell_type": "markdown",
   "id": "2da3b81a",
   "metadata": {},
   "source": [
    "One way to read or write a file in Python is to use the built-in <code>open</code> function. The <code>open</code> function provides a <b>File object</b> that contains the methods and attributes you need in order to read, save, and manipulate the file. In this notebook, we will only cover <b>.txt</b> files. The first parameter you need is the file path and the file name. An example is shown as follow:"
   ]
  },
  {
   "cell_type": "markdown",
   "id": "a46b6b3b",
   "metadata": {},
   "source": [
    "<img src=\"https://s3-api.us-geo.objectstorage.softlayer.net/cf-courses-data/CognitiveClass/PY0101EN/Chapter%204/Images/ReadOpen.png\" width=\"500\" />"
   ]
  },
  {
   "cell_type": "markdown",
   "id": "17ade96e",
   "metadata": {},
   "source": [
    " The mode argument is optional and the default value is <b>r</b>. In this notebook we only cover two modes: \n",
    "<ul>\n",
    "    <li><b>r</b> Read mode for reading files </li>\n",
    "    <li><b>w</b> Write mode for writing files</li>\n",
    "</ul>"
   ]
  },
  {
   "cell_type": "markdown",
   "id": "727d3876",
   "metadata": {},
   "source": [
    "For the next example, we will use the text file <b>Example1.txt</b>. The file is shown as follow:"
   ]
  },
  {
   "cell_type": "markdown",
   "id": "e0a8aa55",
   "metadata": {},
   "source": [
    "<img src=\"https://s3-api.us-geo.objectstorage.softlayer.net/cf-courses-data/CognitiveClass/PY0101EN/Chapter%204/Images/ReadFile.png\" width=\"200\" />"
   ]
  },
  {
   "cell_type": "markdown",
   "id": "07b2462b",
   "metadata": {},
   "source": [
    " We read the file: "
   ]
  },
  {
   "cell_type": "code",
   "execution_count": 3,
   "id": "8a8dbc84",
   "metadata": {},
   "outputs": [
    {
     "ename": "FileNotFoundError",
     "evalue": "[Errno 2] No such file or directory: 'example1.txt'",
     "output_type": "error",
     "traceback": [
      "\u001b[1;31m---------------------------------------------------------------------------\u001b[0m",
      "\u001b[1;31mFileNotFoundError\u001b[0m                         Traceback (most recent call last)",
      "Cell \u001b[1;32mIn[3], line 4\u001b[0m\n\u001b[0;32m      1\u001b[0m \u001b[39m# Read the Example1.txt\u001b[39;00m\n\u001b[0;32m      3\u001b[0m example1 \u001b[39m=\u001b[39m \u001b[39m\"\u001b[39m\u001b[39mexample1.txt\u001b[39m\u001b[39m\"\u001b[39m \n\u001b[1;32m----> 4\u001b[0m file1 \u001b[39m=\u001b[39m \u001b[39mopen\u001b[39;49m(example1, \u001b[39m\"\u001b[39;49m\u001b[39mr\u001b[39;49m\u001b[39m\"\u001b[39;49m) \u001b[39m#\"r\"는 example1 객체를 읽을 수 있는 상태로 만들자. \u001b[39;00m\n",
      "File \u001b[1;32mc:\\Users\\lovel\\AppData\\Local\\Programs\\Python\\Python311\\Lib\\site-packages\\IPython\\core\\interactiveshell.py:282\u001b[0m, in \u001b[0;36m_modified_open\u001b[1;34m(file, *args, **kwargs)\u001b[0m\n\u001b[0;32m    275\u001b[0m \u001b[39mif\u001b[39;00m file \u001b[39min\u001b[39;00m {\u001b[39m0\u001b[39m, \u001b[39m1\u001b[39m, \u001b[39m2\u001b[39m}:\n\u001b[0;32m    276\u001b[0m     \u001b[39mraise\u001b[39;00m \u001b[39mValueError\u001b[39;00m(\n\u001b[0;32m    277\u001b[0m         \u001b[39mf\u001b[39m\u001b[39m\"\u001b[39m\u001b[39mIPython won\u001b[39m\u001b[39m'\u001b[39m\u001b[39mt let you open fd=\u001b[39m\u001b[39m{\u001b[39;00mfile\u001b[39m}\u001b[39;00m\u001b[39m by default \u001b[39m\u001b[39m\"\u001b[39m\n\u001b[0;32m    278\u001b[0m         \u001b[39m\"\u001b[39m\u001b[39mas it is likely to crash IPython. If you know what you are doing, \u001b[39m\u001b[39m\"\u001b[39m\n\u001b[0;32m    279\u001b[0m         \u001b[39m\"\u001b[39m\u001b[39myou can use builtins\u001b[39m\u001b[39m'\u001b[39m\u001b[39m open.\u001b[39m\u001b[39m\"\u001b[39m\n\u001b[0;32m    280\u001b[0m     )\n\u001b[1;32m--> 282\u001b[0m \u001b[39mreturn\u001b[39;00m io_open(file, \u001b[39m*\u001b[39;49margs, \u001b[39m*\u001b[39;49m\u001b[39m*\u001b[39;49mkwargs)\n",
      "\u001b[1;31mFileNotFoundError\u001b[0m: [Errno 2] No such file or directory: 'example1.txt'"
     ]
    }
   ],
   "source": [
    "# Read the Example1.txt\n",
    "\n",
    "example1 = \"example1.txt\" \n",
    "file1 = open(example1, \"r\") #\"r\"는 example1 객체를 읽을 수 있는 상태로 만들자. "
   ]
  },
  {
   "cell_type": "markdown",
   "id": "07831b53",
   "metadata": {},
   "source": [
    " We can view the attributes of the file."
   ]
  },
  {
   "cell_type": "markdown",
   "id": "2b8ab85e",
   "metadata": {},
   "source": [
    "The name of the file:"
   ]
  },
  {
   "cell_type": "code",
   "execution_count": null,
   "id": "eb2fe592",
   "metadata": {},
   "outputs": [
    {
     "data": {
      "text/plain": [
       "'example1.txt'"
      ]
     },
     "execution_count": 90,
     "metadata": {},
     "output_type": "execute_result"
    }
   ],
   "source": [
    "# Print the path of file\n",
    "\n",
    "file1.name"
   ]
  },
  {
   "cell_type": "markdown",
   "id": "94cfc0e3",
   "metadata": {},
   "source": [
    " The mode the file object is in:"
   ]
  },
  {
   "cell_type": "code",
   "execution_count": null,
   "id": "bd041d75",
   "metadata": {},
   "outputs": [
    {
     "data": {
      "text/plain": [
       "'r'"
      ]
     },
     "execution_count": 91,
     "metadata": {},
     "output_type": "execute_result"
    }
   ],
   "source": [
    "# Print the mode of file, either 'r' or 'w'\n",
    "\n",
    "file1.mode"
   ]
  },
  {
   "cell_type": "markdown",
   "id": "4d6eaec7",
   "metadata": {},
   "source": [
    "We can read the file and assign it to a variable :"
   ]
  },
  {
   "cell_type": "code",
   "execution_count": null,
   "id": "80a81a29",
   "metadata": {},
   "outputs": [
    {
     "data": {
      "text/plain": [
       "'This is line 1\\nThis is line 2\\nThis is line 3\\n(empty)\\nThis is line 4\\n\\n'"
      ]
     },
     "execution_count": 92,
     "metadata": {},
     "output_type": "execute_result"
    }
   ],
   "source": [
    "# Read the file\n",
    "\n",
    "FileContent = file1.read()\n",
    "FileContent"
   ]
  },
  {
   "cell_type": "markdown",
   "id": "12bf8cdb",
   "metadata": {},
   "source": [
    "The <b>\\n</b> means that there is a new line. "
   ]
  },
  {
   "cell_type": "markdown",
   "id": "b162662c",
   "metadata": {},
   "source": [
    "We can print the file: "
   ]
  },
  {
   "cell_type": "code",
   "execution_count": null,
   "id": "3dcea6d1",
   "metadata": {},
   "outputs": [
    {
     "name": "stdout",
     "output_type": "stream",
     "text": [
      "This is line 1\n",
      "This is line 2\n",
      "This is line 3\n",
      "(empty)\n",
      "This is line 4\n",
      "\n",
      "\n"
     ]
    }
   ],
   "source": [
    "# Print the file with '\\n' as a new line\n",
    "\n",
    "print(FileContent)"
   ]
  },
  {
   "cell_type": "markdown",
   "id": "dd0389fa",
   "metadata": {},
   "source": [
    "The file is of type string:"
   ]
  },
  {
   "cell_type": "code",
   "execution_count": null,
   "id": "b31b667d",
   "metadata": {},
   "outputs": [
    {
     "data": {
      "text/plain": [
       "str"
      ]
     },
     "execution_count": 94,
     "metadata": {},
     "output_type": "execute_result"
    }
   ],
   "source": [
    "# Type of file content\n",
    "\n",
    "type(FileContent)"
   ]
  },
  {
   "cell_type": "markdown",
   "id": "1912618a",
   "metadata": {},
   "source": [
    " We must close the file object:"
   ]
  },
  {
   "cell_type": "code",
   "execution_count": null,
   "id": "bc9fc1a6",
   "metadata": {},
   "outputs": [],
   "source": [
    "# Close file after finish\n",
    "\n",
    "file1.close()"
   ]
  },
  {
   "cell_type": "markdown",
   "id": "c892fb83",
   "metadata": {},
   "source": [
    "<hr>"
   ]
  },
  {
   "cell_type": "markdown",
   "id": "04b3cfb6",
   "metadata": {},
   "source": [
    "<h2 id=\"better\">A Better Way to Open a File</h2>"
   ]
  },
  {
   "cell_type": "markdown",
   "id": "d8f4cdbb",
   "metadata": {},
   "source": [
    "Using the <code>with</code> statement is better practice, it automatically closes the file even if the code encounters an exception. The code will run everything in the indent block then close the file object. "
   ]
  },
  {
   "cell_type": "code",
   "execution_count": null,
   "id": "e7d7e2f0",
   "metadata": {},
   "outputs": [
    {
     "name": "stdout",
     "output_type": "stream",
     "text": [
      "This is line 1\n",
      "This is line 2\n",
      "This is line 3\n",
      "(empty)\n",
      "This is line 4\n",
      "\n",
      "\n"
     ]
    }
   ],
   "source": [
    "# Open file using with\n",
    "\n",
    "with open(example1, \"r\") as file1:\n",
    "    FileContent = file1.read()\n",
    "    print(FileContent)"
   ]
  },
  {
   "cell_type": "markdown",
   "id": "3768a215",
   "metadata": {},
   "source": [
    "The file object is closed, you can verify it by running the following cell:  "
   ]
  },
  {
   "cell_type": "code",
   "execution_count": null,
   "id": "bc42bde8",
   "metadata": {},
   "outputs": [
    {
     "data": {
      "text/plain": [
       "True"
      ]
     },
     "execution_count": 97,
     "metadata": {},
     "output_type": "execute_result"
    }
   ],
   "source": [
    "# Verify if the file is closed\n",
    "\n",
    "file1.closed"
   ]
  },
  {
   "cell_type": "markdown",
   "id": "ddd30212",
   "metadata": {},
   "source": [
    " We can see the info in the file:"
   ]
  },
  {
   "cell_type": "code",
   "execution_count": null,
   "id": "6e0253a4",
   "metadata": {},
   "outputs": [
    {
     "name": "stdout",
     "output_type": "stream",
     "text": [
      "This is line 1\n",
      "This is line 2\n",
      "This is line 3\n",
      "(empty)\n",
      "This is line 4\n",
      "\n",
      "\n"
     ]
    }
   ],
   "source": [
    "# See the content of file\n",
    "\n",
    "print(FileContent)"
   ]
  },
  {
   "cell_type": "markdown",
   "id": "018fe148",
   "metadata": {},
   "source": [
    "The syntax is a little confusing as the file object is after the <code>as</code> statement. We also don’t explicitly close the file. Therefore we summarize the steps in a figure:"
   ]
  },
  {
   "cell_type": "markdown",
   "id": "ba46d58d",
   "metadata": {},
   "source": [
    "<img src=\"https://s3-api.us-geo.objectstorage.softlayer.net/cf-courses-data/CognitiveClass/PY0101EN/Chapter%204/Images/ReadWith.png\" width=\"500\" />"
   ]
  },
  {
   "cell_type": "markdown",
   "id": "c1fcecbd",
   "metadata": {},
   "source": [
    "We don’t have to read the entire file, for example, we can read the first 4 characters by entering three as a parameter to the method **.read()**:\n"
   ]
  },
  {
   "cell_type": "code",
   "execution_count": null,
   "id": "f14a2cc3",
   "metadata": {},
   "outputs": [
    {
     "name": "stdout",
     "output_type": "stream",
     "text": [
      "This\n"
     ]
    }
   ],
   "source": [
    "# Read first four characters\n",
    "\n",
    "with open(example1, \"r\") as file1:\n",
    "    print(file1.read(4))"
   ]
  },
  {
   "cell_type": "markdown",
   "id": "88c48cd0",
   "metadata": {},
   "source": [
    "Once the method <code>.read(4)</code> is called the first 4 characters are called. If we call the method again, the next 4 characters are called. The output for the following cell will demonstrate the process for different inputs to the method <code>read()</code>:"
   ]
  },
  {
   "cell_type": "code",
   "execution_count": null,
   "id": "057a5fcc",
   "metadata": {},
   "outputs": [
    {
     "name": "stdout",
     "output_type": "stream",
     "text": [
      "This\n",
      " is \n",
      "line 1\n",
      "\n",
      "This is line 2\n",
      "\n"
     ]
    }
   ],
   "source": [
    "# Read certain amount of characters\n",
    "\n",
    "with open(example1, \"r\") as file1:\n",
    "    print(file1.read(4))\n",
    "    print(file1.read(4))\n",
    "    print(file1.read(7))\n",
    "    print(file1.read(15))"
   ]
  },
  {
   "cell_type": "markdown",
   "id": "df1e5050",
   "metadata": {},
   "source": [
    "The process is illustrated in the below figure, and each color represents the part of the file read after the method <code>read()</code> is called:"
   ]
  },
  {
   "cell_type": "markdown",
   "id": "32577563",
   "metadata": {},
   "source": [
    "<img src=\"https://s3-api.us-geo.objectstorage.softlayer.net/cf-courses-data/CognitiveClass/PY0101EN/Chapter%204/Images/ReadChar.png\" width=\"500\" />"
   ]
  },
  {
   "cell_type": "markdown",
   "id": "3e36e24f",
   "metadata": {},
   "source": [
    " Here is an example using the same file, but instead we read 16, 5, and then 9 characters at a time: "
   ]
  },
  {
   "cell_type": "code",
   "execution_count": null,
   "id": "e8645b29",
   "metadata": {},
   "outputs": [
    {
     "name": "stdout",
     "output_type": "stream",
     "text": [
      "This is line 1\n",
      "T\n",
      "his i\n",
      "s line 2\n",
      "\n"
     ]
    }
   ],
   "source": [
    "# Read certain amount of characters\n",
    "\n",
    "with open(example1, \"r\") as file1:\n",
    "    print(file1.read(16))\n",
    "    print(file1.read(5))\n",
    "    print(file1.read(9))"
   ]
  },
  {
   "cell_type": "markdown",
   "id": "4762b784",
   "metadata": {},
   "source": [
    "We can also read one line of the file at a time using the method <code>readline()</code>: "
   ]
  },
  {
   "cell_type": "code",
   "execution_count": null,
   "id": "a5060097",
   "metadata": {},
   "outputs": [
    {
     "name": "stdout",
     "output_type": "stream",
     "text": [
      "first line: This is line 1\n",
      "\n",
      "second line: This is line 2\n",
      "\n",
      "third line: This is line 3\n",
      "\n"
     ]
    }
   ],
   "source": [
    "# Read one line\n",
    "\n",
    "with open(example1, \"r\") as file1:\n",
    "    print(\"first line: \" + file1.readline())\n",
    "    print(\"second line: \" + file1.readline())\n",
    "    print(\"third line: \" + file1.readline())"
   ]
  },
  {
   "cell_type": "markdown",
   "id": "e8acac58",
   "metadata": {},
   "source": [
    " We can use a loop to iterate through each line: \n"
   ]
  },
  {
   "cell_type": "code",
   "execution_count": null,
   "id": "c9809ea9",
   "metadata": {},
   "outputs": [
    {
     "name": "stdout",
     "output_type": "stream",
     "text": [
      "Iteration 0 :  This is line 1\n",
      "\n",
      "Iteration 1 :  This is line 2\n",
      "\n",
      "Iteration 2 :  This is line 3\n",
      "\n",
      "Iteration 3 :  (empty)\n",
      "\n",
      "Iteration 4 :  This is line 4\n",
      "\n",
      "Iteration 5 :  \n",
      "\n"
     ]
    }
   ],
   "source": [
    "# Iterate through the lines\n",
    "\n",
    "with open(example1,\"r\") as file1:\n",
    "        i = 0;\n",
    "        for line in file1:\n",
    "            print(\"Iteration\", str(i), \": \", line)\n",
    "            i = i + 1;"
   ]
  },
  {
   "cell_type": "markdown",
   "id": "ab1c0aa9",
   "metadata": {},
   "source": [
    "We can use the method <code>readlines()</code> to save the text file to a list: "
   ]
  },
  {
   "cell_type": "code",
   "execution_count": null,
   "id": "3c991320",
   "metadata": {},
   "outputs": [],
   "source": [
    "# Read all lines and save as a list --> 자주 사용함 \n",
    "\n",
    "with open(example1, \"r\") as file1:\n",
    "    FileasList = file1.readlines()"
   ]
  },
  {
   "cell_type": "markdown",
   "id": "2b66fc11",
   "metadata": {},
   "source": [
    " Each element of the list corresponds to a line of text:"
   ]
  },
  {
   "cell_type": "code",
   "execution_count": null,
   "id": "cf0a22c3",
   "metadata": {},
   "outputs": [
    {
     "data": {
      "text/plain": [
       "'This is line 1\\n'"
      ]
     },
     "execution_count": 105,
     "metadata": {},
     "output_type": "execute_result"
    }
   ],
   "source": [
    "# Print the first line\n",
    "\n",
    "FileasList[0]"
   ]
  },
  {
   "cell_type": "code",
   "execution_count": null,
   "id": "a0b7acfa",
   "metadata": {},
   "outputs": [
    {
     "data": {
      "text/plain": [
       "'This is line 2\\n'"
      ]
     },
     "execution_count": 106,
     "metadata": {},
     "output_type": "execute_result"
    }
   ],
   "source": [
    "# Print the second line\n",
    "\n",
    "FileasList[1]"
   ]
  },
  {
   "cell_type": "code",
   "execution_count": null,
   "id": "19453fc4",
   "metadata": {},
   "outputs": [
    {
     "data": {
      "text/plain": [
       "'This is line 3\\n'"
      ]
     },
     "execution_count": 107,
     "metadata": {},
     "output_type": "execute_result"
    }
   ],
   "source": [
    "# Print the third line\n",
    "\n",
    "FileasList[2]"
   ]
  },
  {
   "cell_type": "code",
   "execution_count": null,
   "id": "127b8c6b",
   "metadata": {},
   "outputs": [
    {
     "data": {
      "text/plain": [
       "'(empty)\\n'"
      ]
     },
     "execution_count": 108,
     "metadata": {},
     "output_type": "execute_result"
    }
   ],
   "source": [
    "FileasList[3]"
   ]
  },
  {
   "cell_type": "code",
   "execution_count": null,
   "id": "47e7b566",
   "metadata": {},
   "outputs": [
    {
     "data": {
      "text/plain": [
       "'This is line 4\\n'"
      ]
     },
     "execution_count": 109,
     "metadata": {},
     "output_type": "execute_result"
    }
   ],
   "source": [
    "FileasList[4]"
   ]
  },
  {
   "cell_type": "markdown",
   "id": "2b12931c",
   "metadata": {},
   "source": [
    "<hr>\n",
    "<h2>The last exercise!</h2>\n",
    "<p>Congratulations, you have completed your first lesson and hands-on lab in Python. However, there is one more thing you need to do. The Data Science community encourages sharing work. The best way to share and showcase your work is to share it on GitHub. By sharing your notebook on GitHub you are not only building your reputation with fellow data scientists, but you can also show it off when applying for a job. Even though this was your first piece of work, it is never too early to start building good habits. Please submit all your exercises to Github & let the traces in our LMS, so for me to access your work\n",
    "<hr>"
   ]
  },
  {
   "cell_type": "markdown",
   "id": "d19fa1a5",
   "metadata": {},
   "source": [
    "<hr>"
   ]
  },
  {
   "cell_type": "markdown",
   "id": "61b55eb0",
   "metadata": {},
   "source": [
    "<p>Copyright &copy; 2023 RYU HOKYOUNG based on 2018 IBM Developer Skills Network. This notebook and its source code are released under the terms of the <a href=\"https://cognitiveclass.ai/mit-license/\">MIT License</a>.</p>"
   ]
  }
 ],
 "metadata": {
  "kernelspec": {
   "display_name": "Python 3 (ipykernel)",
   "language": "python",
   "name": "python3"
  },
  "language_info": {
   "codemirror_mode": {
    "name": "ipython",
    "version": 3
   },
   "file_extension": ".py",
   "mimetype": "text/x-python",
   "name": "python",
   "nbconvert_exporter": "python",
   "pygments_lexer": "ipython3",
   "version": "3.11.3"
  }
 },
 "nbformat": 4,
 "nbformat_minor": 5
}
