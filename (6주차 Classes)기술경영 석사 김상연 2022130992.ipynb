{
 "cells": [
  {
   "attachments": {},
   "cell_type": "markdown",
   "id": "ba229dd0",
   "metadata": {},
   "source": [
    "Let’s create the object <code>SkinnyBlueRectangle</code> of type Rectangle. Its width will be 2 and height will be 3, and the color will be blue:"
   ]
  },
  {
   "cell_type": "code",
   "execution_count": 10,
   "id": "caa941fd",
   "metadata": {},
   "outputs": [
    {
     "ename": "NameError",
     "evalue": "name 'Rectangle' is not defined",
     "output_type": "error",
     "traceback": [
      "\u001b[1;31m---------------------------------------------------------------------------\u001b[0m",
      "\u001b[1;31mNameError\u001b[0m                                 Traceback (most recent call last)",
      "Cell \u001b[1;32mIn[10], line 1\u001b[0m\n\u001b[1;32m----> 1\u001b[0m SkinnyBlueRectangle \u001b[39m=\u001b[39m Rectangle(\u001b[39m2\u001b[39m,\u001b[39m3\u001b[39m,\u001b[39m'\u001b[39m\u001b[39mblue\u001b[39m\u001b[39m'\u001b[39m)\n",
      "\u001b[1;31mNameError\u001b[0m: name 'Rectangle' is not defined"
     ]
    }
   ],
   "source": [
    "SkinnyBlueRectangle = Rectangle(2,3,'blue')"
   ]
  },
  {
   "attachments": {},
   "cell_type": "markdown",
   "id": "8a6ca566",
   "metadata": {},
   "source": [
    " As before we can access the attributes of the instance of the class by using the dot notation:"
   ]
  },
  {
   "cell_type": "code",
   "execution_count": null,
   "id": "8e389d39",
   "metadata": {},
   "outputs": [
    {
     "data": {
      "text/plain": [
       "3"
      ]
     },
     "execution_count": 24,
     "metadata": {},
     "output_type": "execute_result"
    }
   ],
   "source": [
    "SkinnyBlueRectangle.height"
   ]
  },
  {
   "cell_type": "code",
   "execution_count": null,
   "id": "7d9ea736",
   "metadata": {},
   "outputs": [
    {
     "data": {
      "text/plain": [
       "2"
      ]
     },
     "execution_count": 25,
     "metadata": {},
     "output_type": "execute_result"
    }
   ],
   "source": [
    "SkinnyBlueRectangle.width"
   ]
  },
  {
   "cell_type": "code",
   "execution_count": null,
   "id": "95bbc517",
   "metadata": {},
   "outputs": [
    {
     "data": {
      "text/plain": [
       "'blue'"
      ]
     },
     "execution_count": 26,
     "metadata": {},
     "output_type": "execute_result"
    }
   ],
   "source": [
    "SkinnyBlueRectangle.color"
   ]
  },
  {
   "attachments": {},
   "cell_type": "markdown",
   "id": "e82cb084",
   "metadata": {},
   "source": [
    " We can draw the object:"
   ]
  },
  {
   "cell_type": "code",
   "execution_count": null,
   "id": "a6ac6c23",
   "metadata": {},
   "outputs": [
    {
     "data": {
      "image/png": "[encoded data removed]",
      "text/plain": [
       "<Figure size 640x480 with 1 Axes>"
      ]
     },
     "metadata": {},
     "output_type": "display_data"
    }
   ],
   "source": [
    "SkinnyBlueRectangle.drawRectangle()"
   ]
  },
  {
   "attachments": {},
   "cell_type": "markdown",
   "id": "da3b526d",
   "metadata": {},
   "source": [
    "Let’s create the object <code>FatYellowRectangle</code> of type Rectangle :"
   ]
  },
  {
   "cell_type": "code",
   "execution_count": null,
   "id": "2a99fe20",
   "metadata": {},
   "outputs": [],
   "source": [
    "FatYellowRectangle = Rectangle(2,3,'yellow')"
   ]
  },
  {
   "attachments": {},
   "cell_type": "markdown",
   "id": "ea94def4",
   "metadata": {},
   "source": [
    " We can access the attributes of the instance of the class by using the dot notation:"
   ]
  },
  {
   "cell_type": "code",
   "execution_count": null,
   "id": "5cdbc257",
   "metadata": {},
   "outputs": [
    {
     "data": {
      "text/plain": [
       "3"
      ]
     },
     "execution_count": 31,
     "metadata": {},
     "output_type": "execute_result"
    }
   ],
   "source": [
    "FatYellowRectangle.height"
   ]
  },
  {
   "cell_type": "code",
   "execution_count": null,
   "id": "291d8e86",
   "metadata": {},
   "outputs": [
    {
     "data": {
      "text/plain": [
       "2"
      ]
     },
     "execution_count": 33,
     "metadata": {},
     "output_type": "execute_result"
    }
   ],
   "source": [
    "FatYellowRectangle.width"
   ]
  },
  {
   "cell_type": "code",
   "execution_count": null,
   "id": "3946c600",
   "metadata": {},
   "outputs": [
    {
     "data": {
      "text/plain": [
       "'yellow'"
      ]
     },
     "execution_count": 34,
     "metadata": {},
     "output_type": "execute_result"
    }
   ],
   "source": [
    "FatYellowRectangle.color"
   ]
  },
  {
   "attachments": {},
   "cell_type": "markdown",
   "id": "183b09ad",
   "metadata": {},
   "source": [
    " We can draw the object:"
   ]
  },
  {
   "cell_type": "code",
   "execution_count": null,
   "id": "c9b09843",
   "metadata": {},
   "outputs": [
    {
     "data": {
      "image/png": "[encoded data removed]",
      "text/plain": [
       "<Figure size 640x480 with 1 Axes>"
      ]
     },
     "metadata": {},
     "output_type": "display_data"
    }
   ],
   "source": [
    "FatYellowRectangle.drawRectangle()"
   ]
  }
 ],
 "metadata": {
  "kernelspec": {
   "display_name": "Python 3",
   "language": "python",
   "name": "python3"
  },
  "language_info": {
   "codemirror_mode": {
    "name": "ipython",
    "version": 3
   },
   "file_extension": ".py",
   "mimetype": "text/x-python",
   "name": "python",
   "nbconvert_exporter": "python",
   "pygments_lexer": "ipython3",
   "version": "3.11.3"
  },
  "vscode": {
   "interpreter": {
    "hash": "4f772c48212738866c699a77b06b67b1543ce429ff13b0c2dd1538bb71fabcdb"
   }
  }
 },
 "nbformat": 4,
 "nbformat_minor": 5
}
