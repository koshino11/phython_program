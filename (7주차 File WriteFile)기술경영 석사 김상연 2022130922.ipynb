{
 "cells": [
  {
   "attachments": {},
   "cell_type": "markdown",
   "id": "d98a9795",
   "metadata": {},
   "source": [
    "<h3><strong>한양대 기술경영 석사 김상연 2022130922<strong></h3>"
   ]
  },
  {
   "attachments": {},
   "cell_type": "markdown",
   "id": "4a601bab",
   "metadata": {},
   "source": [
    "해당 실습을 colab에서 하고 있지 않아, PC의 파일을 만들고 실습함"
   ]
  },
  {
   "cell_type": "markdown",
   "id": "9a53eb8b",
   "metadata": {},
   "source": [
    "<h2 id=\"write\">Writing Files</h2>"
   ]
  },
  {
   "cell_type": "markdown",
   "id": "a6d68007",
   "metadata": {},
   "source": [
    " We can open a file object using the method <code>write()</code> to save the text file to a list. To write the mode, argument must be set to write <b>w</b>. Let’s write a file <b>example2.txt</b> with the line: <b>“This is line A”</b>"
   ]
  },
  {
   "cell_type": "code",
   "execution_count": null,
   "id": "57d01969",
   "metadata": {},
   "outputs": [],
   "source": [
    "# Write line to file\n",
    "\n",
    "with open('example2.txt', 'w') as writefile:\n",
    "    writefile.write(\"This is line A\")"
   ]
  },
  {
   "cell_type": "markdown",
   "id": "471155cb",
   "metadata": {},
   "source": [
    " We can read the file to see if it worked:"
   ]
  },
  {
   "cell_type": "code",
   "execution_count": null,
   "id": "f840983e",
   "metadata": {},
   "outputs": [
    {
     "name": "stdout",
     "output_type": "stream",
     "text": [
      "This is line A\n"
     ]
    }
   ],
   "source": [
    "# Read file\n",
    "\n",
    "with open('example2.txt', 'r') as testwritefile:\n",
    "    print(testwritefile.read())"
   ]
  },
  {
   "cell_type": "markdown",
   "id": "a9cca365",
   "metadata": {},
   "source": [
    "We can write multiple lines:"
   ]
  },
  {
   "cell_type": "code",
   "execution_count": null,
   "id": "59038a66",
   "metadata": {},
   "outputs": [],
   "source": [
    "# Write lines to file\n",
    "\n",
    "with open('example10.txt', 'w') as writefile:\n",
    "    writefile.write(\"This is line A\\n\")\n",
    "    writefile.write(\"This is line B\\n\")\n",
    "    writefile.write(\"This is line 10\\n\")"
   ]
  },
  {
   "cell_type": "markdown",
   "id": "0553f18c",
   "metadata": {},
   "source": [
    "The method <code>.write()</code> works similar to the method <code>.readline()</code>, except instead of reading a new line it writes a new line. The process is illustrated in the figure , the different colour coding of the grid represents a new line added to the file after each method call."
   ]
  },
  {
   "cell_type": "markdown",
   "id": "a182d968",
   "metadata": {},
   "source": [
    "<img src=\"https://s3-api.us-geo.objectstorage.softlayer.net/cf-courses-data/CognitiveClass/PY0101EN/Chapter%204/Images/WriteLine.png\" width=\"500\" />"
   ]
  },
  {
   "cell_type": "markdown",
   "id": "995ba54c",
   "metadata": {},
   "source": [
    "You can check the file to see if your results are correct "
   ]
  },
  {
   "cell_type": "code",
   "execution_count": null,
   "id": "483b6b68",
   "metadata": {},
   "outputs": [
    {
     "name": "stdout",
     "output_type": "stream",
     "text": [
      "This is line A\n"
     ]
    }
   ],
   "source": [
    "# Check whether write to file\n",
    "\n",
    "with open('example2.txt', 'r') as testwritefile:\n",
    "    print(testwritefile.read())"
   ]
  },
  {
   "cell_type": "markdown",
   "id": "67c4c03e",
   "metadata": {},
   "source": [
    " By setting the mode argument to append **a**  you can append a new line as follows:"
   ]
  },
  {
   "cell_type": "code",
   "execution_count": null,
   "id": "52811b06",
   "metadata": {},
   "outputs": [],
   "source": [
    "# Write a new line to text file\n",
    "\n",
    "with open('example2.txt', 'a') as testwritefile:\n",
    "    testwritefile.write(\"This is line C\\n\")"
   ]
  },
  {
   "cell_type": "markdown",
   "id": "6a6bf998",
   "metadata": {},
   "source": [
    " You can verify the file has changed by running the following cell:"
   ]
  },
  {
   "cell_type": "code",
   "execution_count": null,
   "id": "eee00c6f",
   "metadata": {},
   "outputs": [
    {
     "name": "stdout",
     "output_type": "stream",
     "text": [
      "This is line AThis is line C\n",
      "\n"
     ]
    }
   ],
   "source": [
    "# Verify if the new line is in the text file\n",
    "\n",
    "with open('example2.txt', 'r') as testwritefile:\n",
    "    print(testwritefile.read())"
   ]
  },
  {
   "cell_type": "markdown",
   "id": "a90a6a3f",
   "metadata": {},
   "source": [
    " We write a list to a <b>.txt</b> file  as follows:"
   ]
  },
  {
   "cell_type": "code",
   "execution_count": null,
   "id": "be526602",
   "metadata": {},
   "outputs": [
    {
     "data": {
      "text/plain": [
       "['This is line A\\n', 'This is line B\\n', 'This is line C\\n']"
      ]
     },
     "execution_count": 26,
     "metadata": {},
     "output_type": "execute_result"
    }
   ],
   "source": [
    "# Sample list of text\n",
    "\n",
    "Lines = [\"This is line A\\n\", \"This is line B\\n\", \"This is line C\\n\"]\n",
    "Lines"
   ]
  },
  {
   "cell_type": "code",
   "execution_count": null,
   "id": "11cd5ef3",
   "metadata": {},
   "outputs": [
    {
     "name": "stdout",
     "output_type": "stream",
     "text": [
      "This is line A\n",
      "\n",
      "This is line B\n",
      "\n",
      "This is line C\n",
      "\n"
     ]
    }
   ],
   "source": [
    "# Write the strings in the list to text file\n",
    "\n",
    "with open('example11.txt', 'w') as writefile:\n",
    "    for line in Lines:\n",
    "        print(line)\n",
    "        writefile.write(line)"
   ]
  },
  {
   "cell_type": "markdown",
   "id": "b0693743",
   "metadata": {},
   "source": [
    " We can verify the file is written by reading it and printing out the values:  "
   ]
  },
  {
   "cell_type": "code",
   "execution_count": null,
   "id": "c1690afe",
   "metadata": {},
   "outputs": [
    {
     "name": "stdout",
     "output_type": "stream",
     "text": [
      "This is line A\n",
      "This is line B\n",
      "This is line C\n",
      "\n"
     ]
    }
   ],
   "source": [
    "# Verify if writing to file is successfully executed\n",
    "\n",
    "with open('example11.txt', 'r') as testwritefile:\n",
    "    print(testwritefile.read())"
   ]
  },
  {
   "cell_type": "markdown",
   "id": "0354e047",
   "metadata": {},
   "source": [
    "We can again append to the file by changing the second parameter to <b>a</b>. This adds the code:"
   ]
  },
  {
   "cell_type": "code",
   "execution_count": null,
   "id": "f99167da",
   "metadata": {},
   "outputs": [],
   "source": [
    "# Append the line to the file\n",
    "\n",
    "with open('example11.txt', 'a') as testwritefile:\n",
    "    testwritefile.write(\"This is line D\\n\")"
   ]
  },
  {
   "cell_type": "markdown",
   "id": "c2f21d82",
   "metadata": {},
   "source": [
    "We can see the results of appending the file: "
   ]
  },
  {
   "cell_type": "code",
   "execution_count": null,
   "id": "874139a6",
   "metadata": {},
   "outputs": [
    {
     "name": "stdout",
     "output_type": "stream",
     "text": [
      "This is line A\n",
      "This is line B\n",
      "This is line C\n",
      "This is line D\n",
      "\n"
     ]
    }
   ],
   "source": [
    "# Verify if the appending is successfully executed\n",
    "\n",
    "with open('example11.txt', 'r') as testwritefile:\n",
    "    print(testwritefile.read())"
   ]
  },
  {
   "cell_type": "markdown",
   "id": "f45c4a0e",
   "metadata": {},
   "source": [
    "<hr>"
   ]
  },
  {
   "cell_type": "markdown",
   "id": "28c2cba1",
   "metadata": {},
   "source": [
    "<h2 id=\"copy\">Copy a File</h2> "
   ]
  },
  {
   "cell_type": "markdown",
   "id": "c0f4ef56",
   "metadata": {},
   "source": [
    "Let's copy the file <b>Example11.txt</b> to the file <b>Example12.txt</b>:"
   ]
  },
  {
   "cell_type": "code",
   "execution_count": null,
   "id": "02fdb367",
   "metadata": {},
   "outputs": [],
   "source": [
    "# Copy file to another\n",
    "\n",
    "with open('example11.txt','r') as readfile:\n",
    "    with open('example12.txt','w') as writefile:\n",
    "          for line in readfile:\n",
    "                writefile.write(line)"
   ]
  },
  {
   "cell_type": "markdown",
   "id": "2a0d02b1",
   "metadata": {},
   "source": [
    "We can read the file to see if everything works:"
   ]
  },
  {
   "cell_type": "code",
   "execution_count": null,
   "id": "2223c466",
   "metadata": {},
   "outputs": [
    {
     "name": "stdout",
     "output_type": "stream",
     "text": [
      "This is line A\n",
      "This is line B\n",
      "This is line C\n",
      "This is line D\n",
      "\n"
     ]
    }
   ],
   "source": [
    "# Verify if the copy is successfully executed\n",
    "\n",
    "with open('example12.txt','r') as testwritefile:\n",
    "    print(testwritefile.read())"
   ]
  },
  {
   "cell_type": "code",
   "execution_count": null,
   "id": "25af3dfb",
   "metadata": {},
   "outputs": [
    {
     "name": "stdout",
     "output_type": "stream",
     "text": [
      "This is line A\n",
      "This is line B\n",
      "This is line C\n",
      "This is line D\n",
      "\n"
     ]
    }
   ],
   "source": [
    "\n",
    "with open('example12.txt','r') as testwritefile:\n",
    "    print(testwritefile.read())"
   ]
  },
  {
   "cell_type": "markdown",
   "id": "88df984d",
   "metadata": {},
   "source": [
    " After reading files, we can also write data into files and save them in different file formats like **.txt, .csv, .xls (for excel files) etc**. Let's take a look at some examples."
   ]
  },
  {
   "cell_type": "markdown",
   "id": "bbe1c682",
   "metadata": {},
   "source": [
    "Now go to the directory to ensure the <b>.txt</b> file exists and contains the summary data that we wrote."
   ]
  },
  {
   "cell_type": "markdown",
   "id": "3c26e581",
   "metadata": {},
   "source": [
    "<hr>\n",
    "<h2>The last exercise!</h2>\n",
    "<p>Congratulations, you have completed your first lesson and hands-on lab in Python. However, there is one more thing you need to do. The Data Science community encourages sharing work. The best way to share and showcase your work is to share it on GitHub. By sharing your notebook on GitHub you are not only building your reputation with fellow data scientists, but you can also show it off when applying for a job. Even though this was your first piece of work, it is never too early to start building good habits. Please submit all your exercises to Github & let the traces in our LMS, so for me to access your work\n",
    "<hr>"
   ]
  },
  {
   "cell_type": "markdown",
   "id": "ac859f34",
   "metadata": {},
   "source": [
    "<hr>"
   ]
  },
  {
   "cell_type": "markdown",
   "id": "ef4b21f7",
   "metadata": {},
   "source": [
    "<p>Copyright &copy; 2023 RYU HOKYOUNG based on 2018 IBM Developer Skills Network. This notebook and its source code are released under the terms of the <a href=\"https://cognitiveclass.ai/mit-license/\">MIT License</a>.</p>"
   ]
  }
 ],
 "metadata": {
  "kernelspec": {
   "display_name": "Python 3 (ipykernel)",
   "language": "python",
   "name": "python3"
  },
  "language_info": {
   "codemirror_mode": {
    "name": "ipython",
    "version": 3
   },
   "file_extension": ".py",
   "mimetype": "text/x-python",
   "name": "python",
   "nbconvert_exporter": "python",
   "pygments_lexer": "ipython3",
   "version": "3.11.3"
  }
 },
 "nbformat": 4,
 "nbformat_minor": 5
}
