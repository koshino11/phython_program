{
 "cells": [
  {
   "attachments": {},
   "cell_type": "markdown",
   "id": "d98a9795",
   "metadata": {},
   "source": [
    "<h3><strong>한양대 기술경영 석사 김상연 2022130992<strong></h3>"
   ]
  },
  {
   "attachments": {},
   "cell_type": "markdown",
   "id": "5406acf5",
   "metadata": {},
   "source": [
    "<h2 id=\"quiz\">Quiz on Conditions</h2>"
   ]
  },
  {
   "attachments": {},
   "cell_type": "markdown",
   "id": "b5c77013",
   "metadata": {},
   "source": [
    "Write an if statement to determine if an album had a rating greater than 8. Test it using the rating for the album <b>“Back in Black”</b> that had a rating of 8.5. If the statement is true print \"This album is Amazing!\""
   ]
  },
  {
   "cell_type": "code",
   "execution_count": 2,
   "id": "b2c68e6b",
   "metadata": {},
   "outputs": [
    {
     "name": "stdout",
     "output_type": "stream",
     "text": [
      "This album is Amazing!\n"
     ]
    }
   ],
   "source": [
    "album_rating = 8.5\n",
    "if album_rate > 8 :\n",
    "    print(\"This album is Amazing!\")"
   ]
  },
  {
   "attachments": {},
   "cell_type": "markdown",
   "id": "01574d8f",
   "metadata": {},
   "source": [
    "Write an if-else statement that performs the following. If the rating is larger then eight print “this album is amazing”. If the rating is less than or equal to 8 print “this album is ok”."
   ]
  },
  {
   "cell_type": "code",
   "execution_count": 3,
   "id": "4cfbc82f",
   "metadata": {},
   "outputs": [
    {
     "name": "stdout",
     "output_type": "stream",
     "text": [
      "this album is amazing\n"
     ]
    }
   ],
   "source": [
    "if album_rating <= 8:\n",
    "    print(\"this album is ok\")\n",
    "else:\n",
    "    print(\"this album is amazing\")"
   ]
  },
  {
   "attachments": {},
   "cell_type": "markdown",
   "id": "4eefd17b",
   "metadata": {},
   "source": [
    "Write an if statement to determine if an album came out before 1980 or in the years: 1991 or 1993. If the condition is true print out the year the album came out."
   ]
  },
  {
   "cell_type": "code",
   "execution_count": 1,
   "id": "62da6d14",
   "metadata": {},
   "outputs": [
    {
     "name": "stdout",
     "output_type": "stream",
     "text": [
      "앨범은 1979년에 나왔습니다.\n"
     ]
    }
   ],
   "source": [
    "album_year = 1979\n",
    "\n",
    "if (album_year<1980):\n",
    "     #or (album_year == 1991) or (album_year == 1993):\n",
    "    print(\"앨범은 \"+str(album_year)+\"년에 나왔습니다.\")\n",
    "elif (album_year == 1991):\n",
    "    print(\"앨범은 1991년에 나왔습니다.\")\n",
    "elif (album_year == 1993):\n",
    "    print(\"앨범은 1993년에 나왔습니다.\")\n",
    "else:\n",
    "    print(\"앨범은 \"+str(album_year)+\"년에 나왔습니다.\")\n"
   ]
  }
 ],
 "metadata": {
  "kernelspec": {
   "display_name": "Python 3 (ipykernel)",
   "language": "python",
   "name": "python3"
  },
  "language_info": {
   "codemirror_mode": {
    "name": "ipython",
    "version": 3
   },
   "file_extension": ".py",
   "mimetype": "text/x-python",
   "name": "python",
   "nbconvert_exporter": "python",
   "pygments_lexer": "ipython3",
   "version": "3.11.2"
  }
 },
 "nbformat": 4,
 "nbformat_minor": 5
}
