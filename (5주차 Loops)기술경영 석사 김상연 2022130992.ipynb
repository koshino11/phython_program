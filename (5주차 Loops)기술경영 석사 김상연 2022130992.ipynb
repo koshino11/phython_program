{
 "cells": [
  {
   "attachments": {},
   "cell_type": "markdown",
   "id": "d98a9795",
   "metadata": {},
   "source": [
    "<h3><strong>한양대 기술경영 석사 김상연 2022130992<strong></h3>"
   ]
  },
  {
   "attachments": {},
   "cell_type": "markdown",
   "id": "abed7066",
   "metadata": {},
   "source": [
    "<h2 id=\"quiz\">Quiz on Loops</h2>"
   ]
  },
  {
   "attachments": {},
   "cell_type": "markdown",
   "id": "66414b15",
   "metadata": {},
   "source": [
    "Write a <code>for</code> loop the prints out all the element between <b>-5</b> and <b>5</b> using the range function."
   ]
  },
  {
   "cell_type": "code",
   "execution_count": 1,
   "id": "beae9a78",
   "metadata": {},
   "outputs": [
    {
     "name": "stdout",
     "output_type": "stream",
     "text": [
      "-5\n",
      "-4\n",
      "-3\n",
      "-2\n",
      "-1\n",
      "0\n",
      "1\n",
      "2\n",
      "3\n",
      "4\n",
      "5\n"
     ]
    }
   ],
   "source": [
    "for i in range(-5,6):\n",
    "    print(i)"
   ]
  },
  {
   "attachments": {},
   "cell_type": "markdown",
   "id": "5803b663",
   "metadata": {},
   "source": [
    "Print the elements of the following list:\n",
    "<code>Genres=[ 'rock', 'R&B', 'Soundtrack', 'R&B', 'soul', 'pop']</code>\n",
    "Make sure you follow Python conventions."
   ]
  },
  {
   "cell_type": "code",
   "execution_count": 2,
   "id": "f4ed6832",
   "metadata": {},
   "outputs": [],
   "source": [
    "Genres=[ 'rock', 'R&B', 'Soundtrack', 'R&B', 'soul', 'pop']"
   ]
  },
  {
   "cell_type": "code",
   "execution_count": 3,
   "id": "a009c522",
   "metadata": {},
   "outputs": [
    {
     "name": "stdout",
     "output_type": "stream",
     "text": [
      "rock\n",
      "R&B\n",
      "Soundtrack\n",
      "R&B\n",
      "soul\n",
      "pop\n"
     ]
    }
   ],
   "source": [
    "for i in Genres:\n",
    "    print(i)"
   ]
  },
  {
   "attachments": {},
   "cell_type": "markdown",
   "id": "2c634606",
   "metadata": {},
   "source": [
    "Write a for loop that prints out the following list: <code>squares=['red', 'yellow', 'green', 'purple', 'blue']</code>"
   ]
  },
  {
   "cell_type": "code",
   "execution_count": 4,
   "id": "017624d0",
   "metadata": {},
   "outputs": [
    {
     "name": "stdout",
     "output_type": "stream",
     "text": [
      "red\n",
      "yellow\n",
      "green\n",
      "purple\n",
      "blue\n"
     ]
    }
   ],
   "source": [
    "squares=['red', 'yellow', 'green', 'purple', 'blue']\n",
    "for i in squares:\n",
    "    print(i)"
   ]
  },
  {
   "attachments": {},
   "cell_type": "markdown",
   "id": "f5c67e49",
   "metadata": {},
   "source": [
    "Write a while loop to display the values of the Rating of an album playlist stored in the list <code>PlayListRatings</code>. If the score is less than 6, exit the loop. The list <code>PlayListRatings</code> is given by: <code>PlayListRatings = [10, 9.5, 10, 8, 7.5, 5, 10, 10]</code>"
   ]
  },
  {
   "cell_type": "code",
   "execution_count": 5,
   "id": "269d85ea",
   "metadata": {},
   "outputs": [
    {
     "name": "stdout",
     "output_type": "stream",
     "text": [
      "10\n",
      "9.5\n",
      "10\n",
      "8\n",
      "7.5\n"
     ]
    }
   ],
   "source": [
    "PlayListRatings = [10, 9.5, 10, 8, 7.5, 5, 10, 10]\n",
    "i = 0\n",
    "while(PlayListRatings[i] >= 6):\n",
    "    print(PlayListRatings[i])\n",
    "    i = i + 1"
   ]
  },
  {
   "cell_type": "markdown",
   "id": "f241fbb7",
   "metadata": {},
   "source": [
    "Write a while loop to copy the strings <code>'orange'</code> of the list <code>squares</code> to the list <code>new_squares</code>. Stop and exit the loop if the value on the list is not <code>'orange'</code>:"
   ]
  },
  {
   "cell_type": "code",
   "execution_count": 6,
   "id": "4f57be5e",
   "metadata": {},
   "outputs": [
    {
     "name": "stdout",
     "output_type": "stream",
     "text": [
      "['orange', 'orange']\n"
     ]
    }
   ],
   "source": [
    "squares = ['orange', 'orange', 'purple', 'blue ', 'orange']\n",
    "new_squares = []\n",
    "i = 0\n",
    "while (squares[i] == 'orange'):\n",
    "    new_squares.append(squares[i])\n",
    "    i = i + 1\n",
    "\n",
    "print(new_squares)"
   ]
  }
 ],
 "metadata": {
  "kernelspec": {
   "display_name": "Python 3 (ipykernel)",
   "language": "python",
   "name": "python3"
  },
  "language_info": {
   "codemirror_mode": {
    "name": "ipython",
    "version": 3
   },
   "file_extension": ".py",
   "mimetype": "text/x-python",
   "name": "python",
   "nbconvert_exporter": "python",
   "pygments_lexer": "ipython3",
   "version": "3.11.3"
  }
 },
 "nbformat": 4,
 "nbformat_minor": 5
}
