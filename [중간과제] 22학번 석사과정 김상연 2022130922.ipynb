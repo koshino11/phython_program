{
 "cells": [
  {
   "attachments": {},
   "cell_type": "markdown",
   "metadata": {},
   "source": [
    "<h3><strong>한양대 기술경영 석사 김상연 2022130922<strong></h3>"
   ]
  },
  {
   "cell_type": "markdown",
   "metadata": {},
   "source": []
  },
  {
   "attachments": {},
   "cell_type": "markdown",
   "metadata": {},
   "source": [
    "1. 키와 몸무게를 입력하면 BMI를 계산하는 프로그램을 작성하시오 (반복문을 사용해서 계속 몸무게/키를 입력받음. 종료는 -1000을 입력하면 종료하도록 함)"
   ]
  },
  {
   "cell_type": "code",
   "execution_count": 1,
   "metadata": {},
   "outputs": [],
   "source": [
    "\n",
    "height = #-1000\n",
    "\n",
    "weight = #-1000\n",
    "\n",
    "bmi = #continue\n",
    "\n",
    "\n",
    "while True:\n",
    "    weight = input(\"몸무게(kg)를 입력하세요.\")  \n",
    "\n",
    "    if float(weight) == -1000:  #-1000 입력시 종료\n",
    "        print(\"프로그램을 종료합니다.\")\n",
    "        break\n",
    "    else:\n",
    "        height = input(\"키(cm)를 입력하세요.\")\n",
    "        if float(height) == -1000:  #-1000 입력시 종료\n",
    "            print(\"프로그램을 종료합니다.\")\n",
    "            break\n",
    "        else:\n",
    "            bmi = (float(weight) / ((float(height)/100)*(float(height)/100))) #BMI 계산(기본 입력 타입이 String이라 Float로 변환 후 계산)\n",
    "            print(\"BMI는 {:.2f}입니다.\".format(bmi))    #출력\n",
    "            continue    #입력후 계산하면 다음 입력값까지 출력값이 나오지 않기때문에 continue로 진행\n"
   ]
  },
  {
   "attachments": {},
   "cell_type": "markdown",
   "metadata": {},
   "source": [
    "2. 숫자 2개를 입력받아서 큰수와 작은수를 차례로 출력하는 프로그램을 작성하시오 (반복문을 사용해서 계속 값을 입력받음. 종료는  0을 두번 입력하면 종료하도록 함) "
   ]
  },
  {
   "cell_type": "code",
   "execution_count": null,
   "metadata": {},
   "outputs": [
    {
     "name": "stdout",
     "output_type": "stream",
     "text": [
      "큰수 : 67.00\n",
      "작은수 : 50.00\n",
      "프로그램을 종료합니다.\n"
     ]
    }
   ],
   "source": [
    "\n",
    "\n",
    "int1 = 0\n",
    "int2 = 0\n",
    "\n",
    "while True:\n",
    "    int1 = input(\"첫번째 수를 입력하세요.\")\n",
    "    int2 = input(\"두번째 수를 입력하세요.\")\n",
    "    if (float(int1)==0) and (float(int2)==0):    #0을 두번 입력시 프로그램 종료\n",
    "        print(\"프로그램을 종료합니다.\")\n",
    "        break\n",
    "    else:\n",
    "        if float(int1)>float(int2): #첫번째 수가 클때\n",
    "            print(\"큰수 : {:.2f}\".format(float(int1)))\n",
    "            print(\"작은수 : {:.2f}\".format(float(int2)))\n",
    "        elif float(int1)==float(int2):  #두수가 같을때\n",
    "            print(\"두수의 값이 같습니다.\")\n",
    "        else:   #두번째 수가 클때\n",
    "            print(\"큰수 : {:.2f}\".format(float(int2)))\n",
    "            print(\"작은수 : {:.2f}\".format(float(int1)))\n"
   ]
  },
  {
   "attachments": {},
   "cell_type": "markdown",
   "metadata": {},
   "source": [
    "3. 10명의 학생 이름과 점수를 입력받아 등수를 계산하고, 출력 시에는 이름, 점수를 등수 순서대로 출력하는 프로그램을 작성하시오."
   ]
  },
  {
   "cell_type": "code",
   "execution_count": null,
   "metadata": {},
   "outputs": [
    {
     "name": "stdout",
     "output_type": "stream",
     "text": [
      "a3: 30.0점, 등수: 1등\n",
      "a4: 30.0점, 등수: 2등\n",
      "a2: 20.0점, 등수: 3등\n",
      "a1: 10.0점, 등수: 4등\n"
     ]
    }
   ],
   "source": [
    "class Students(object):     #학생 클래스 작성\n",
    "    def __init__(self, name, score):\n",
    "        self.name = name\n",
    "        self.score = score\n",
    "        self.rank = rank\n",
    "\n",
    "    def __str__(self):\n",
    "        return f\"{self.name}: {self.score}점, 등수: {self.rank}등\"\n",
    "\n",
    "studentsList = []   #객채를 저장할 리스트 \n",
    "\n",
    "for i in range(4):  #학생 이름, 점수 입력\n",
    "    name = input(f\"{i+1}번 학생의 이름을 입력하세요.\")\n",
    "    score = float(input(f\"{i+1}번 학생의 점수를 입력하세요.\"))\n",
    "    student = Students(name, score)\n",
    "    studentsList.append(student)\n",
    "\n",
    "studentsList = sorted(studentsList, key=lambda x: x.score, reverse=True) #점수순서대로 정렬\n",
    "for i, student in enumerate(studentsList):  #순위 저장\n",
    "    student.rank = i + 1    \n",
    "\n",
    "for student in studentsList:\n",
    "    print(student)  #순위대로 출력\n"
   ]
  }
 ],
 "metadata": {
  "kernelspec": {
   "display_name": "Python 3",
   "language": "python",
   "name": "python3"
  },
  "language_info": {
   "codemirror_mode": {
    "name": "ipython",
    "version": 3
   },
   "file_extension": ".py",
   "mimetype": "text/x-python",
   "name": "python",
   "nbconvert_exporter": "python",
   "pygments_lexer": "ipython3",
   "version": "3.11.3"
  },
  "orig_nbformat": 4
 },
 "nbformat": 4,
 "nbformat_minor": 2
}
